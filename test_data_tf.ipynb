{
  "nbformat": 4,
  "nbformat_minor": 0,
  "metadata": {
    "colab": {
      "name": "test-data-tf.ipynb",
      "provenance": [],
      "authorship_tag": "ABX9TyOB+Y8qFCe37E8qdfCYdIDa",
      "include_colab_link": true
    },
    "kernelspec": {
      "name": "python3",
      "display_name": "Python 3"
    }
  },
  "cells": [
    {
      "cell_type": "markdown",
      "metadata": {
        "id": "view-in-github",
        "colab_type": "text"
      },
      "source": [
        "<a href=\"https://colab.research.google.com/github/npthg/test-data-tf/blob/master/test_data_tf.ipynb\" target=\"_parent\"><img src=\"https://colab.research.google.com/assets/colab-badge.svg\" alt=\"Open In Colab\"/></a>"
      ]
    },
    {
      "cell_type": "code",
      "metadata": {
        "id": "VBufUYtrjNI0",
        "colab_type": "code",
        "colab": {
          "base_uri": "https://localhost:8080/",
          "height": 646
        },
        "outputId": "7596082e-2b18-4f89-df86-79c2ca44b6b5"
      },
      "source": [
        "pip install tensorflow"
      ],
      "execution_count": null,
      "outputs": [
        {
          "output_type": "stream",
          "text": [
            "Requirement already satisfied: tensorflow in /usr/local/lib/python3.6/dist-packages (2.3.0)\n",
            "Requirement already satisfied: wheel>=0.26 in /usr/local/lib/python3.6/dist-packages (from tensorflow) (0.34.2)\n",
            "Requirement already satisfied: wrapt>=1.11.1 in /usr/local/lib/python3.6/dist-packages (from tensorflow) (1.12.1)\n",
            "Requirement already satisfied: astunparse==1.6.3 in /usr/local/lib/python3.6/dist-packages (from tensorflow) (1.6.3)\n",
            "Requirement already satisfied: protobuf>=3.9.2 in /usr/local/lib/python3.6/dist-packages (from tensorflow) (3.12.4)\n",
            "Requirement already satisfied: termcolor>=1.1.0 in /usr/local/lib/python3.6/dist-packages (from tensorflow) (1.1.0)\n",
            "Requirement already satisfied: scipy==1.4.1 in /usr/local/lib/python3.6/dist-packages (from tensorflow) (1.4.1)\n",
            "Requirement already satisfied: gast==0.3.3 in /usr/local/lib/python3.6/dist-packages (from tensorflow) (0.3.3)\n",
            "Requirement already satisfied: h5py<2.11.0,>=2.10.0 in /usr/local/lib/python3.6/dist-packages (from tensorflow) (2.10.0)\n",
            "Requirement already satisfied: opt-einsum>=2.3.2 in /usr/local/lib/python3.6/dist-packages (from tensorflow) (3.3.0)\n",
            "Requirement already satisfied: absl-py>=0.7.0 in /usr/local/lib/python3.6/dist-packages (from tensorflow) (0.9.0)\n",
            "Requirement already satisfied: grpcio>=1.8.6 in /usr/local/lib/python3.6/dist-packages (from tensorflow) (1.31.0)\n",
            "Requirement already satisfied: tensorboard<3,>=2.3.0 in /usr/local/lib/python3.6/dist-packages (from tensorflow) (2.3.0)\n",
            "Requirement already satisfied: keras-preprocessing<1.2,>=1.1.1 in /usr/local/lib/python3.6/dist-packages (from tensorflow) (1.1.2)\n",
            "Requirement already satisfied: google-pasta>=0.1.8 in /usr/local/lib/python3.6/dist-packages (from tensorflow) (0.2.0)\n",
            "Requirement already satisfied: numpy<1.19.0,>=1.16.0 in /usr/local/lib/python3.6/dist-packages (from tensorflow) (1.18.5)\n",
            "Requirement already satisfied: six>=1.12.0 in /usr/local/lib/python3.6/dist-packages (from tensorflow) (1.15.0)\n",
            "Requirement already satisfied: tensorflow-estimator<2.4.0,>=2.3.0 in /usr/local/lib/python3.6/dist-packages (from tensorflow) (2.3.0)\n",
            "Requirement already satisfied: setuptools in /usr/local/lib/python3.6/dist-packages (from protobuf>=3.9.2->tensorflow) (49.2.0)\n",
            "Requirement already satisfied: tensorboard-plugin-wit>=1.6.0 in /usr/local/lib/python3.6/dist-packages (from tensorboard<3,>=2.3.0->tensorflow) (1.7.0)\n",
            "Requirement already satisfied: google-auth-oauthlib<0.5,>=0.4.1 in /usr/local/lib/python3.6/dist-packages (from tensorboard<3,>=2.3.0->tensorflow) (0.4.1)\n",
            "Requirement already satisfied: google-auth<2,>=1.6.3 in /usr/local/lib/python3.6/dist-packages (from tensorboard<3,>=2.3.0->tensorflow) (1.17.2)\n",
            "Requirement already satisfied: werkzeug>=0.11.15 in /usr/local/lib/python3.6/dist-packages (from tensorboard<3,>=2.3.0->tensorflow) (1.0.1)\n",
            "Requirement already satisfied: requests<3,>=2.21.0 in /usr/local/lib/python3.6/dist-packages (from tensorboard<3,>=2.3.0->tensorflow) (2.23.0)\n",
            "Requirement already satisfied: markdown>=2.6.8 in /usr/local/lib/python3.6/dist-packages (from tensorboard<3,>=2.3.0->tensorflow) (3.2.2)\n",
            "Requirement already satisfied: requests-oauthlib>=0.7.0 in /usr/local/lib/python3.6/dist-packages (from google-auth-oauthlib<0.5,>=0.4.1->tensorboard<3,>=2.3.0->tensorflow) (1.3.0)\n",
            "Requirement already satisfied: pyasn1-modules>=0.2.1 in /usr/local/lib/python3.6/dist-packages (from google-auth<2,>=1.6.3->tensorboard<3,>=2.3.0->tensorflow) (0.2.8)\n",
            "Requirement already satisfied: rsa<5,>=3.1.4; python_version >= \"3\" in /usr/local/lib/python3.6/dist-packages (from google-auth<2,>=1.6.3->tensorboard<3,>=2.3.0->tensorflow) (4.6)\n",
            "Requirement already satisfied: cachetools<5.0,>=2.0.0 in /usr/local/lib/python3.6/dist-packages (from google-auth<2,>=1.6.3->tensorboard<3,>=2.3.0->tensorflow) (4.1.1)\n",
            "Requirement already satisfied: chardet<4,>=3.0.2 in /usr/local/lib/python3.6/dist-packages (from requests<3,>=2.21.0->tensorboard<3,>=2.3.0->tensorflow) (3.0.4)\n",
            "Requirement already satisfied: certifi>=2017.4.17 in /usr/local/lib/python3.6/dist-packages (from requests<3,>=2.21.0->tensorboard<3,>=2.3.0->tensorflow) (2020.6.20)\n",
            "Requirement already satisfied: idna<3,>=2.5 in /usr/local/lib/python3.6/dist-packages (from requests<3,>=2.21.0->tensorboard<3,>=2.3.0->tensorflow) (2.10)\n",
            "Requirement already satisfied: urllib3!=1.25.0,!=1.25.1,<1.26,>=1.21.1 in /usr/local/lib/python3.6/dist-packages (from requests<3,>=2.21.0->tensorboard<3,>=2.3.0->tensorflow) (1.24.3)\n",
            "Requirement already satisfied: importlib-metadata; python_version < \"3.8\" in /usr/local/lib/python3.6/dist-packages (from markdown>=2.6.8->tensorboard<3,>=2.3.0->tensorflow) (1.7.0)\n",
            "Requirement already satisfied: oauthlib>=3.0.0 in /usr/local/lib/python3.6/dist-packages (from requests-oauthlib>=0.7.0->google-auth-oauthlib<0.5,>=0.4.1->tensorboard<3,>=2.3.0->tensorflow) (3.1.0)\n",
            "Requirement already satisfied: pyasn1<0.5.0,>=0.4.6 in /usr/local/lib/python3.6/dist-packages (from pyasn1-modules>=0.2.1->google-auth<2,>=1.6.3->tensorboard<3,>=2.3.0->tensorflow) (0.4.8)\n",
            "Requirement already satisfied: zipp>=0.5 in /usr/local/lib/python3.6/dist-packages (from importlib-metadata; python_version < \"3.8\"->markdown>=2.6.8->tensorboard<3,>=2.3.0->tensorflow) (3.1.0)\n"
          ],
          "name": "stdout"
        }
      ]
    },
    {
      "cell_type": "code",
      "metadata": {
        "id": "a41tdF-WjYzZ",
        "colab_type": "code",
        "colab": {}
      },
      "source": [
        "import pandas as pd\n"
      ],
      "execution_count": null,
      "outputs": []
    },
    {
      "cell_type": "code",
      "metadata": {
        "id": "-P4F89ffjtom",
        "colab_type": "code",
        "colab": {
          "base_uri": "https://localhost:8080/",
          "height": 51
        },
        "outputId": "2f26ae32-54df-4afa-fbdc-fd499953c79d"
      },
      "source": [
        "import numpy as np\n",
        "import seaborn as sns"
      ],
      "execution_count": null,
      "outputs": [
        {
          "output_type": "stream",
          "text": [
            "/usr/local/lib/python3.6/dist-packages/statsmodels/tools/_testing.py:19: FutureWarning: pandas.util.testing is deprecated. Use the functions in the public API at pandas.testing instead.\n",
            "  import pandas.util.testing as tm\n"
          ],
          "name": "stderr"
        }
      ]
    },
    {
      "cell_type": "code",
      "metadata": {
        "id": "jsuLpFzZj0ra",
        "colab_type": "code",
        "colab": {}
      },
      "source": [
        "df = pd.read_csv('/fake_reg.csv');"
      ],
      "execution_count": null,
      "outputs": []
    },
    {
      "cell_type": "code",
      "metadata": {
        "id": "vaXLxfZ4kUhV",
        "colab_type": "code",
        "colab": {
          "base_uri": "https://localhost:8080/",
          "height": 204
        },
        "outputId": "df745ccf-f6be-4fbe-adc0-3833c9334327"
      },
      "source": [
        "df.head()"
      ],
      "execution_count": null,
      "outputs": [
        {
          "output_type": "execute_result",
          "data": {
            "text/html": [
              "<div>\n",
              "<style scoped>\n",
              "    .dataframe tbody tr th:only-of-type {\n",
              "        vertical-align: middle;\n",
              "    }\n",
              "\n",
              "    .dataframe tbody tr th {\n",
              "        vertical-align: top;\n",
              "    }\n",
              "\n",
              "    .dataframe thead th {\n",
              "        text-align: right;\n",
              "    }\n",
              "</style>\n",
              "<table border=\"1\" class=\"dataframe\">\n",
              "  <thead>\n",
              "    <tr style=\"text-align: right;\">\n",
              "      <th></th>\n",
              "      <th>price</th>\n",
              "      <th>feature1</th>\n",
              "      <th>feature2</th>\n",
              "    </tr>\n",
              "  </thead>\n",
              "  <tbody>\n",
              "    <tr>\n",
              "      <th>0</th>\n",
              "      <td>461.527929</td>\n",
              "      <td>999.787558</td>\n",
              "      <td>999.766096</td>\n",
              "    </tr>\n",
              "    <tr>\n",
              "      <th>1</th>\n",
              "      <td>548.130011</td>\n",
              "      <td>998.861615</td>\n",
              "      <td>1001.042403</td>\n",
              "    </tr>\n",
              "    <tr>\n",
              "      <th>2</th>\n",
              "      <td>410.297162</td>\n",
              "      <td>1000.070267</td>\n",
              "      <td>998.844015</td>\n",
              "    </tr>\n",
              "    <tr>\n",
              "      <th>3</th>\n",
              "      <td>540.382220</td>\n",
              "      <td>999.952251</td>\n",
              "      <td>1000.440940</td>\n",
              "    </tr>\n",
              "    <tr>\n",
              "      <th>4</th>\n",
              "      <td>546.024553</td>\n",
              "      <td>1000.446011</td>\n",
              "      <td>1000.338531</td>\n",
              "    </tr>\n",
              "  </tbody>\n",
              "</table>\n",
              "</div>"
            ],
            "text/plain": [
              "        price     feature1     feature2\n",
              "0  461.527929   999.787558   999.766096\n",
              "1  548.130011   998.861615  1001.042403\n",
              "2  410.297162  1000.070267   998.844015\n",
              "3  540.382220   999.952251  1000.440940\n",
              "4  546.024553  1000.446011  1000.338531"
            ]
          },
          "metadata": {
            "tags": []
          },
          "execution_count": 5
        }
      ]
    },
    {
      "cell_type": "code",
      "metadata": {
        "id": "uFFQpUgHkW1D",
        "colab_type": "code",
        "colab": {
          "base_uri": "https://localhost:8080/",
          "height": 587
        },
        "outputId": "852d09fa-fc93-43f2-f8df-ad66be24aefa"
      },
      "source": [
        "sns.pairplot(df)"
      ],
      "execution_count": null,
      "outputs": [
        {
          "output_type": "execute_result",
          "data": {
            "text/plain": [
              "<seaborn.axisgrid.PairGrid at 0x7f901f306908>"
            ]
          },
          "metadata": {
            "tags": []
          },
          "execution_count": 6
        },
        {
          "output_type": "display_data",
          "data": {
            "image/png": "[encoded data removed]",
            "text/plain": [
              "<Figure size 540x540 with 12 Axes>"
            ]
          },
          "metadata": {
            "tags": [],
            "needs_background": "light"
          }
        }
      ]
    },
    {
      "cell_type": "code",
      "metadata": {
        "id": "jEp0b6AYkmiZ",
        "colab_type": "code",
        "colab": {}
      },
      "source": [
        "from sklearn.model_selection import train_test_split"
      ],
      "execution_count": null,
      "outputs": []
    },
    {
      "cell_type": "code",
      "metadata": {
        "id": "VxapHqH5k9Jr",
        "colab_type": "code",
        "colab": {}
      },
      "source": [
        "X = df[['feature1', 'feature2']].values"
      ],
      "execution_count": null,
      "outputs": []
    },
    {
      "cell_type": "code",
      "metadata": {
        "id": "OYs--gf_lTaj",
        "colab_type": "code",
        "colab": {}
      },
      "source": [
        "y = df['price'].values"
      ],
      "execution_count": null,
      "outputs": []
    },
    {
      "cell_type": "code",
      "metadata": {
        "id": "gQYqwu2glXYQ",
        "colab_type": "code",
        "colab": {}
      },
      "source": [
        "X_train, X_test, y_train, y_test = train_test_split(X, y, test_size=0.3, random_state=42)"
      ],
      "execution_count": null,
      "outputs": []
    },
    {
      "cell_type": "code",
      "metadata": {
        "id": "VQTSss3DlwtH",
        "colab_type": "code",
        "colab": {}
      },
      "source": [
        "from sklearn.preprocessing import MinMaxScaler"
      ],
      "execution_count": null,
      "outputs": []
    },
    {
      "cell_type": "code",
      "metadata": {
        "id": "wuD2IGS_l8as",
        "colab_type": "code",
        "colab": {}
      },
      "source": [
        "scaler = MinMaxScaler()"
      ],
      "execution_count": null,
      "outputs": []
    },
    {
      "cell_type": "code",
      "metadata": {
        "id": "vyr4wFl7mN60",
        "colab_type": "code",
        "colab": {
          "base_uri": "https://localhost:8080/",
          "height": 34
        },
        "outputId": "67c6adf9-ec3d-4e00-f52f-dc314c528b7f"
      },
      "source": [
        "scaler.fit(X_train)"
      ],
      "execution_count": null,
      "outputs": [
        {
          "output_type": "execute_result",
          "data": {
            "text/plain": [
              "MinMaxScaler(copy=True, feature_range=(0, 1))"
            ]
          },
          "metadata": {
            "tags": []
          },
          "execution_count": 17
        }
      ]
    },
    {
      "cell_type": "code",
      "metadata": {
        "id": "yqUlz0OVmRAP",
        "colab_type": "code",
        "colab": {}
      },
      "source": [
        "X_train = scaler.transform(X_train)"
      ],
      "execution_count": null,
      "outputs": []
    },
    {
      "cell_type": "code",
      "metadata": {
        "id": "1ZC4w1dTmYDH",
        "colab_type": "code",
        "colab": {}
      },
      "source": [
        "X_test = scaler.transform(X_test)"
      ],
      "execution_count": null,
      "outputs": []
    },
    {
      "cell_type": "code",
      "metadata": {
        "id": "f6dIXi3mmhVb",
        "colab_type": "code",
        "colab": {}
      },
      "source": [
        "from tensorflow.keras.models import Sequential"
      ],
      "execution_count": null,
      "outputs": []
    },
    {
      "cell_type": "code",
      "metadata": {
        "id": "l5bM1QkTmvwG",
        "colab_type": "code",
        "colab": {}
      },
      "source": [
        "from tensorflow.keras.layers import Dense"
      ],
      "execution_count": null,
      "outputs": []
    },
    {
      "cell_type": "code",
      "metadata": {
        "id": "eWx-Ymvbm0p_",
        "colab_type": "code",
        "colab": {}
      },
      "source": [
        "model = Sequential([Dense(4,activation='relu'),\n",
        "                    Dense(4, activation='relu'),\n",
        "                    Dense(1)])"
      ],
      "execution_count": null,
      "outputs": []
    },
    {
      "cell_type": "code",
      "metadata": {
        "id": "x-1c8N4YodXI",
        "colab_type": "code",
        "colab": {}
      },
      "source": [
        "model.compile(optimizer='rmsprop', loss='mse')"
      ],
      "execution_count": null,
      "outputs": []
    },
    {
      "cell_type": "code",
      "metadata": {
        "id": "hvVMQEY5nl98",
        "colab_type": "code",
        "colab": {
          "base_uri": "https://localhost:8080/",
          "height": 1000
        },
        "outputId": "e0c936cb-c59c-45c4-f8a2-609b4a49b05a"
      },
      "source": [
        "model.fit(x=X_train, y=y_train, epochs=250)"
      ],
      "execution_count": null,
      "outputs": [
        {
          "output_type": "stream",
          "text": [
            "Epoch 1/250\n",
            "22/22 [==============================] - 0s 1ms/step - loss: 256716.8750\n",
            "Epoch 2/250\n",
            "22/22 [==============================] - 0s 1ms/step - loss: 256671.3594\n",
            "Epoch 3/250\n",
            "22/22 [==============================] - 0s 957us/step - loss: 256615.7969\n",
            "Epoch 4/250\n",
            "22/22 [==============================] - 0s 943us/step - loss: 256551.3906\n",
            "Epoch 5/250\n",
            "22/22 [==============================] - 0s 1ms/step - loss: 256475.4062\n",
            "Epoch 6/250\n",
            "22/22 [==============================] - 0s 1ms/step - loss: 256386.2812\n",
            "Epoch 7/250\n",
            "22/22 [==============================] - 0s 1ms/step - loss: 256284.1562\n",
            "Epoch 8/250\n",
            "22/22 [==============================] - 0s 1ms/step - loss: 256169.7812\n",
            "Epoch 9/250\n",
            "22/22 [==============================] - 0s 1ms/step - loss: 256043.1094\n",
            "Epoch 10/250\n",
            "22/22 [==============================] - 0s 1ms/step - loss: 255901.1719\n",
            "Epoch 11/250\n",
            "22/22 [==============================] - 0s 971us/step - loss: 255737.4375\n",
            "Epoch 12/250\n",
            "22/22 [==============================] - 0s 1ms/step - loss: 255550.8594\n",
            "Epoch 13/250\n",
            "22/22 [==============================] - 0s 1ms/step - loss: 255341.0000\n",
            "Epoch 14/250\n",
            "22/22 [==============================] - 0s 1ms/step - loss: 255107.2500\n",
            "Epoch 15/250\n",
            "22/22 [==============================] - 0s 969us/step - loss: 254847.7031\n",
            "Epoch 16/250\n",
            "22/22 [==============================] - 0s 1ms/step - loss: 254563.7188\n",
            "Epoch 17/250\n",
            "22/22 [==============================] - 0s 988us/step - loss: 254251.6875\n",
            "Epoch 18/250\n",
            "22/22 [==============================] - 0s 986us/step - loss: 253910.7656\n",
            "Epoch 19/250\n",
            "22/22 [==============================] - 0s 1ms/step - loss: 253542.9219\n",
            "Epoch 20/250\n",
            "22/22 [==============================] - 0s 1ms/step - loss: 253146.5625\n",
            "Epoch 21/250\n",
            "22/22 [==============================] - 0s 1ms/step - loss: 252713.4375\n",
            "Epoch 22/250\n",
            "22/22 [==============================] - 0s 1ms/step - loss: 252250.4688\n",
            "Epoch 23/250\n",
            "22/22 [==============================] - 0s 1ms/step - loss: 251758.1094\n",
            "Epoch 24/250\n",
            "22/22 [==============================] - 0s 1ms/step - loss: 251228.1562\n",
            "Epoch 25/250\n",
            "22/22 [==============================] - 0s 1ms/step - loss: 250663.6562\n",
            "Epoch 26/250\n",
            "22/22 [==============================] - 0s 1ms/step - loss: 250063.1250\n",
            "Epoch 27/250\n",
            "22/22 [==============================] - 0s 1ms/step - loss: 249427.2031\n",
            "Epoch 28/250\n",
            "22/22 [==============================] - 0s 1ms/step - loss: 248756.0469\n",
            "Epoch 29/250\n",
            "22/22 [==============================] - 0s 1ms/step - loss: 248045.3906\n",
            "Epoch 30/250\n",
            "22/22 [==============================] - 0s 1ms/step - loss: 247295.6094\n",
            "Epoch 31/250\n",
            "22/22 [==============================] - 0s 1ms/step - loss: 246503.4062\n",
            "Epoch 32/250\n",
            "22/22 [==============================] - 0s 1ms/step - loss: 245668.3906\n",
            "Epoch 33/250\n",
            "22/22 [==============================] - 0s 1ms/step - loss: 244797.6406\n",
            "Epoch 34/250\n",
            "22/22 [==============================] - 0s 1ms/step - loss: 243879.0156\n",
            "Epoch 35/250\n",
            "22/22 [==============================] - 0s 1ms/step - loss: 242920.0469\n",
            "Epoch 36/250\n",
            "22/22 [==============================] - 0s 1ms/step - loss: 241917.4219\n",
            "Epoch 37/250\n",
            "22/22 [==============================] - 0s 1ms/step - loss: 240869.6406\n",
            "Epoch 38/250\n",
            "22/22 [==============================] - 0s 1ms/step - loss: 239777.3281\n",
            "Epoch 39/250\n",
            "22/22 [==============================] - 0s 1ms/step - loss: 238636.4531\n",
            "Epoch 40/250\n",
            "22/22 [==============================] - 0s 1ms/step - loss: 237450.0781\n",
            "Epoch 41/250\n",
            "22/22 [==============================] - 0s 1ms/step - loss: 236218.5312\n",
            "Epoch 42/250\n",
            "22/22 [==============================] - 0s 1ms/step - loss: 234931.6875\n",
            "Epoch 43/250\n",
            "22/22 [==============================] - 0s 1ms/step - loss: 233601.8750\n",
            "Epoch 44/250\n",
            "22/22 [==============================] - 0s 1ms/step - loss: 232220.1562\n",
            "Epoch 45/250\n",
            "22/22 [==============================] - 0s 1ms/step - loss: 230791.2969\n",
            "Epoch 46/250\n",
            "22/22 [==============================] - 0s 1ms/step - loss: 229312.2344\n",
            "Epoch 47/250\n",
            "22/22 [==============================] - 0s 1ms/step - loss: 227782.7031\n",
            "Epoch 48/250\n",
            "22/22 [==============================] - 0s 1ms/step - loss: 226203.1562\n",
            "Epoch 49/250\n",
            "22/22 [==============================] - 0s 985us/step - loss: 224569.0469\n",
            "Epoch 50/250\n",
            "22/22 [==============================] - 0s 1ms/step - loss: 222884.5781\n",
            "Epoch 51/250\n",
            "22/22 [==============================] - 0s 1ms/step - loss: 221153.4219\n",
            "Epoch 52/250\n",
            "22/22 [==============================] - 0s 1ms/step - loss: 219362.2812\n",
            "Epoch 53/250\n",
            "22/22 [==============================] - 0s 1ms/step - loss: 217520.7500\n",
            "Epoch 54/250\n",
            "22/22 [==============================] - 0s 991us/step - loss: 215628.5312\n",
            "Epoch 55/250\n",
            "22/22 [==============================] - 0s 958us/step - loss: 213681.3906\n",
            "Epoch 56/250\n",
            "22/22 [==============================] - 0s 1ms/step - loss: 211687.9062\n",
            "Epoch 57/250\n",
            "22/22 [==============================] - 0s 1ms/step - loss: 209643.0625\n",
            "Epoch 58/250\n",
            "22/22 [==============================] - 0s 1ms/step - loss: 207541.0469\n",
            "Epoch 59/250\n",
            "22/22 [==============================] - 0s 1ms/step - loss: 205381.7344\n",
            "Epoch 60/250\n",
            "22/22 [==============================] - 0s 1ms/step - loss: 203170.0312\n",
            "Epoch 61/250\n",
            "22/22 [==============================] - 0s 1ms/step - loss: 200908.2812\n",
            "Epoch 62/250\n",
            "22/22 [==============================] - 0s 981us/step - loss: 198592.2031\n",
            "Epoch 63/250\n",
            "22/22 [==============================] - 0s 1ms/step - loss: 196213.0000\n",
            "Epoch 64/250\n",
            "22/22 [==============================] - 0s 1ms/step - loss: 193794.1875\n",
            "Epoch 65/250\n",
            "22/22 [==============================] - 0s 1ms/step - loss: 191315.2031\n",
            "Epoch 66/250\n",
            "22/22 [==============================] - 0s 1ms/step - loss: 188800.2969\n",
            "Epoch 67/250\n",
            "22/22 [==============================] - 0s 1ms/step - loss: 186234.5938\n",
            "Epoch 68/250\n",
            "22/22 [==============================] - 0s 1ms/step - loss: 183608.0312\n",
            "Epoch 69/250\n",
            "22/22 [==============================] - 0s 1ms/step - loss: 180932.9219\n",
            "Epoch 70/250\n",
            "22/22 [==============================] - 0s 1ms/step - loss: 178214.0625\n",
            "Epoch 71/250\n",
            "22/22 [==============================] - 0s 1ms/step - loss: 175445.3906\n",
            "Epoch 72/250\n",
            "22/22 [==============================] - 0s 983us/step - loss: 172635.2031\n",
            "Epoch 73/250\n",
            "22/22 [==============================] - 0s 1ms/step - loss: 169759.7812\n",
            "Epoch 74/250\n",
            "22/22 [==============================] - 0s 1ms/step - loss: 166851.6406\n",
            "Epoch 75/250\n",
            "22/22 [==============================] - 0s 1ms/step - loss: 163907.7656\n",
            "Epoch 76/250\n",
            "22/22 [==============================] - 0s 1ms/step - loss: 160912.8438\n",
            "Epoch 77/250\n",
            "22/22 [==============================] - 0s 957us/step - loss: 157879.2344\n",
            "Epoch 78/250\n",
            "22/22 [==============================] - 0s 977us/step - loss: 154820.7969\n",
            "Epoch 79/250\n",
            "22/22 [==============================] - 0s 1ms/step - loss: 151703.6875\n",
            "Epoch 80/250\n",
            "22/22 [==============================] - 0s 997us/step - loss: 148547.9688\n",
            "Epoch 81/250\n",
            "22/22 [==============================] - 0s 1ms/step - loss: 145363.1875\n",
            "Epoch 82/250\n",
            "22/22 [==============================] - 0s 1ms/step - loss: 142139.1250\n",
            "Epoch 83/250\n",
            "22/22 [==============================] - 0s 1ms/step - loss: 138877.3594\n",
            "Epoch 84/250\n",
            "22/22 [==============================] - 0s 1ms/step - loss: 135589.7500\n",
            "Epoch 85/250\n",
            "22/22 [==============================] - 0s 1ms/step - loss: 132254.9062\n",
            "Epoch 86/250\n",
            "22/22 [==============================] - 0s 997us/step - loss: 128920.7656\n",
            "Epoch 87/250\n",
            "22/22 [==============================] - 0s 1ms/step - loss: 125566.6875\n",
            "Epoch 88/250\n",
            "22/22 [==============================] - 0s 1ms/step - loss: 122182.7188\n",
            "Epoch 89/250\n",
            "22/22 [==============================] - 0s 1ms/step - loss: 118763.2344\n",
            "Epoch 90/250\n",
            "22/22 [==============================] - 0s 991us/step - loss: 115317.3125\n",
            "Epoch 91/250\n",
            "22/22 [==============================] - 0s 1ms/step - loss: 111863.3906\n",
            "Epoch 92/250\n",
            "22/22 [==============================] - 0s 1ms/step - loss: 108392.8906\n",
            "Epoch 93/250\n",
            "22/22 [==============================] - 0s 1ms/step - loss: 104921.9688\n",
            "Epoch 94/250\n",
            "22/22 [==============================] - 0s 1ms/step - loss: 101457.8281\n",
            "Epoch 95/250\n",
            "22/22 [==============================] - 0s 1ms/step - loss: 97953.8828\n",
            "Epoch 96/250\n",
            "22/22 [==============================] - 0s 1ms/step - loss: 94473.7031\n",
            "Epoch 97/250\n",
            "22/22 [==============================] - 0s 1ms/step - loss: 90993.9062\n",
            "Epoch 98/250\n",
            "22/22 [==============================] - 0s 1ms/step - loss: 87499.2266\n",
            "Epoch 99/250\n",
            "22/22 [==============================] - 0s 1ms/step - loss: 84042.1641\n",
            "Epoch 100/250\n",
            "22/22 [==============================] - 0s 1ms/step - loss: 80577.3516\n",
            "Epoch 101/250\n",
            "22/22 [==============================] - 0s 992us/step - loss: 77113.3828\n",
            "Epoch 102/250\n",
            "22/22 [==============================] - 0s 1ms/step - loss: 73702.4453\n",
            "Epoch 103/250\n",
            "22/22 [==============================] - 0s 1ms/step - loss: 70283.0234\n",
            "Epoch 104/250\n",
            "22/22 [==============================] - 0s 1ms/step - loss: 66895.1562\n",
            "Epoch 105/250\n",
            "22/22 [==============================] - 0s 1ms/step - loss: 63545.8789\n",
            "Epoch 106/250\n",
            "22/22 [==============================] - 0s 1ms/step - loss: 60246.1133\n",
            "Epoch 107/250\n",
            "22/22 [==============================] - 0s 1ms/step - loss: 56954.1992\n",
            "Epoch 108/250\n",
            "22/22 [==============================] - 0s 1ms/step - loss: 53713.6523\n",
            "Epoch 109/250\n",
            "22/22 [==============================] - 0s 1ms/step - loss: 50515.0898\n",
            "Epoch 110/250\n",
            "22/22 [==============================] - 0s 1ms/step - loss: 47409.9531\n",
            "Epoch 111/250\n",
            "22/22 [==============================] - 0s 955us/step - loss: 44326.1445\n",
            "Epoch 112/250\n",
            "22/22 [==============================] - 0s 1ms/step - loss: 41321.1289\n",
            "Epoch 113/250\n",
            "22/22 [==============================] - 0s 1ms/step - loss: 38367.8203\n",
            "Epoch 114/250\n",
            "22/22 [==============================] - 0s 1ms/step - loss: 35496.6953\n",
            "Epoch 115/250\n",
            "22/22 [==============================] - 0s 1ms/step - loss: 32692.2969\n",
            "Epoch 116/250\n",
            "22/22 [==============================] - 0s 1ms/step - loss: 29993.0195\n",
            "Epoch 117/250\n",
            "22/22 [==============================] - 0s 1ms/step - loss: 27375.7578\n",
            "Epoch 118/250\n",
            "22/22 [==============================] - 0s 1ms/step - loss: 24824.0508\n",
            "Epoch 119/250\n",
            "22/22 [==============================] - 0s 1ms/step - loss: 22399.6777\n",
            "Epoch 120/250\n",
            "22/22 [==============================] - 0s 1ms/step - loss: 20096.1602\n",
            "Epoch 121/250\n",
            "22/22 [==============================] - 0s 2ms/step - loss: 17894.4629\n",
            "Epoch 122/250\n",
            "22/22 [==============================] - 0s 1ms/step - loss: 15802.4482\n",
            "Epoch 123/250\n",
            "22/22 [==============================] - 0s 1ms/step - loss: 13829.2939\n",
            "Epoch 124/250\n",
            "22/22 [==============================] - 0s 1ms/step - loss: 11999.5840\n",
            "Epoch 125/250\n",
            "22/22 [==============================] - 0s 1ms/step - loss: 10320.8125\n",
            "Epoch 126/250\n",
            "22/22 [==============================] - 0s 1ms/step - loss: 8765.3330\n",
            "Epoch 127/250\n",
            "22/22 [==============================] - 0s 1ms/step - loss: 7377.7935\n",
            "Epoch 128/250\n",
            "22/22 [==============================] - 0s 1ms/step - loss: 6147.0894\n",
            "Epoch 129/250\n",
            "22/22 [==============================] - 0s 1ms/step - loss: 5061.5864\n",
            "Epoch 130/250\n",
            "22/22 [==============================] - 0s 1ms/step - loss: 4152.1401\n",
            "Epoch 131/250\n",
            "22/22 [==============================] - 0s 1ms/step - loss: 3424.4607\n",
            "Epoch 132/250\n",
            "22/22 [==============================] - 0s 1ms/step - loss: 2848.9070\n",
            "Epoch 133/250\n",
            "22/22 [==============================] - 0s 1ms/step - loss: 2451.5867\n",
            "Epoch 134/250\n",
            "22/22 [==============================] - 0s 1ms/step - loss: 2215.4976\n",
            "Epoch 135/250\n",
            "22/22 [==============================] - 0s 1ms/step - loss: 2100.3455\n",
            "Epoch 136/250\n",
            "22/22 [==============================] - 0s 1ms/step - loss: 2054.5156\n",
            "Epoch 137/250\n",
            "22/22 [==============================] - 0s 1ms/step - loss: 2031.5020\n",
            "Epoch 138/250\n",
            "22/22 [==============================] - 0s 1ms/step - loss: 2009.8558\n",
            "Epoch 139/250\n",
            "22/22 [==============================] - 0s 1ms/step - loss: 1990.1515\n",
            "Epoch 140/250\n",
            "22/22 [==============================] - 0s 1ms/step - loss: 1965.5161\n",
            "Epoch 141/250\n",
            "22/22 [==============================] - 0s 1ms/step - loss: 1942.9041\n",
            "Epoch 142/250\n",
            "22/22 [==============================] - 0s 1ms/step - loss: 1920.7349\n",
            "Epoch 143/250\n",
            "22/22 [==============================] - 0s 1ms/step - loss: 1897.1660\n",
            "Epoch 144/250\n",
            "22/22 [==============================] - 0s 1ms/step - loss: 1875.2593\n",
            "Epoch 145/250\n",
            "22/22 [==============================] - 0s 1ms/step - loss: 1854.5464\n",
            "Epoch 146/250\n",
            "22/22 [==============================] - 0s 1ms/step - loss: 1832.0699\n",
            "Epoch 147/250\n",
            "22/22 [==============================] - 0s 1ms/step - loss: 1812.4629\n",
            "Epoch 148/250\n",
            "22/22 [==============================] - 0s 1ms/step - loss: 1791.0686\n",
            "Epoch 149/250\n",
            "22/22 [==============================] - 0s 993us/step - loss: 1770.0221\n",
            "Epoch 150/250\n",
            "22/22 [==============================] - 0s 1ms/step - loss: 1749.5980\n",
            "Epoch 151/250\n",
            "22/22 [==============================] - 0s 1ms/step - loss: 1729.6392\n",
            "Epoch 152/250\n",
            "22/22 [==============================] - 0s 1ms/step - loss: 1710.9155\n",
            "Epoch 153/250\n",
            "22/22 [==============================] - 0s 998us/step - loss: 1688.9120\n",
            "Epoch 154/250\n",
            "22/22 [==============================] - 0s 958us/step - loss: 1667.6338\n",
            "Epoch 155/250\n",
            "22/22 [==============================] - 0s 1ms/step - loss: 1647.3021\n",
            "Epoch 156/250\n",
            "22/22 [==============================] - 0s 1ms/step - loss: 1627.0973\n",
            "Epoch 157/250\n",
            "22/22 [==============================] - 0s 1ms/step - loss: 1603.4344\n",
            "Epoch 158/250\n",
            "22/22 [==============================] - 0s 1ms/step - loss: 1582.7952\n",
            "Epoch 159/250\n",
            "22/22 [==============================] - 0s 1ms/step - loss: 1562.5234\n",
            "Epoch 160/250\n",
            "22/22 [==============================] - 0s 2ms/step - loss: 1544.2990\n",
            "Epoch 161/250\n",
            "22/22 [==============================] - 0s 1ms/step - loss: 1523.3932\n",
            "Epoch 162/250\n",
            "22/22 [==============================] - 0s 1ms/step - loss: 1502.0984\n",
            "Epoch 163/250\n",
            "22/22 [==============================] - 0s 1ms/step - loss: 1482.8430\n",
            "Epoch 164/250\n",
            "22/22 [==============================] - 0s 1ms/step - loss: 1460.9353\n",
            "Epoch 165/250\n",
            "22/22 [==============================] - 0s 1ms/step - loss: 1440.3223\n",
            "Epoch 166/250\n",
            "22/22 [==============================] - 0s 1ms/step - loss: 1419.4236\n",
            "Epoch 167/250\n",
            "22/22 [==============================] - 0s 1ms/step - loss: 1397.7534\n",
            "Epoch 168/250\n",
            "22/22 [==============================] - 0s 1ms/step - loss: 1378.1829\n",
            "Epoch 169/250\n",
            "22/22 [==============================] - 0s 1ms/step - loss: 1356.1880\n",
            "Epoch 170/250\n",
            "22/22 [==============================] - 0s 2ms/step - loss: 1336.7012\n",
            "Epoch 171/250\n",
            "22/22 [==============================] - 0s 1ms/step - loss: 1317.1471\n",
            "Epoch 172/250\n",
            "22/22 [==============================] - 0s 1ms/step - loss: 1294.6049\n",
            "Epoch 173/250\n",
            "22/22 [==============================] - 0s 1ms/step - loss: 1274.7330\n",
            "Epoch 174/250\n",
            "22/22 [==============================] - 0s 1ms/step - loss: 1255.1106\n",
            "Epoch 175/250\n",
            "22/22 [==============================] - 0s 1ms/step - loss: 1236.7247\n",
            "Epoch 176/250\n",
            "22/22 [==============================] - 0s 1ms/step - loss: 1218.1387\n",
            "Epoch 177/250\n",
            "22/22 [==============================] - 0s 1ms/step - loss: 1197.0818\n",
            "Epoch 178/250\n",
            "22/22 [==============================] - 0s 1ms/step - loss: 1182.6332\n",
            "Epoch 179/250\n",
            "22/22 [==============================] - 0s 1ms/step - loss: 1163.6830\n",
            "Epoch 180/250\n",
            "22/22 [==============================] - 0s 1ms/step - loss: 1144.3531\n",
            "Epoch 181/250\n",
            "22/22 [==============================] - 0s 1ms/step - loss: 1125.4580\n",
            "Epoch 182/250\n",
            "22/22 [==============================] - 0s 1ms/step - loss: 1105.9226\n",
            "Epoch 183/250\n",
            "22/22 [==============================] - 0s 1ms/step - loss: 1085.9677\n",
            "Epoch 184/250\n",
            "22/22 [==============================] - 0s 1ms/step - loss: 1066.5068\n",
            "Epoch 185/250\n",
            "22/22 [==============================] - 0s 977us/step - loss: 1048.6980\n",
            "Epoch 186/250\n",
            "22/22 [==============================] - 0s 1ms/step - loss: 1030.2736\n",
            "Epoch 187/250\n",
            "22/22 [==============================] - 0s 1ms/step - loss: 1013.9726\n",
            "Epoch 188/250\n",
            "22/22 [==============================] - 0s 1ms/step - loss: 995.2446\n",
            "Epoch 189/250\n",
            "22/22 [==============================] - 0s 1ms/step - loss: 977.7664\n",
            "Epoch 190/250\n",
            "22/22 [==============================] - 0s 1ms/step - loss: 959.2845\n",
            "Epoch 191/250\n",
            "22/22 [==============================] - 0s 1ms/step - loss: 941.4564\n",
            "Epoch 192/250\n",
            "22/22 [==============================] - 0s 1ms/step - loss: 922.9744\n",
            "Epoch 193/250\n",
            "22/22 [==============================] - 0s 1ms/step - loss: 907.3977\n",
            "Epoch 194/250\n",
            "22/22 [==============================] - 0s 989us/step - loss: 890.3878\n",
            "Epoch 195/250\n",
            "22/22 [==============================] - 0s 993us/step - loss: 873.8999\n",
            "Epoch 196/250\n",
            "22/22 [==============================] - 0s 1ms/step - loss: 857.7537\n",
            "Epoch 197/250\n",
            "22/22 [==============================] - 0s 1ms/step - loss: 840.2471\n",
            "Epoch 198/250\n",
            "22/22 [==============================] - 0s 1ms/step - loss: 826.1580\n",
            "Epoch 199/250\n",
            "22/22 [==============================] - 0s 1ms/step - loss: 811.5324\n",
            "Epoch 200/250\n",
            "22/22 [==============================] - 0s 1ms/step - loss: 797.2715\n",
            "Epoch 201/250\n",
            "22/22 [==============================] - 0s 982us/step - loss: 782.6364\n",
            "Epoch 202/250\n",
            "22/22 [==============================] - 0s 964us/step - loss: 767.8360\n",
            "Epoch 203/250\n",
            "22/22 [==============================] - 0s 1ms/step - loss: 753.7040\n",
            "Epoch 204/250\n",
            "22/22 [==============================] - 0s 1ms/step - loss: 739.2239\n",
            "Epoch 205/250\n",
            "22/22 [==============================] - 0s 1ms/step - loss: 724.3954\n",
            "Epoch 206/250\n",
            "22/22 [==============================] - 0s 1ms/step - loss: 710.4765\n",
            "Epoch 207/250\n",
            "22/22 [==============================] - 0s 1ms/step - loss: 695.6107\n",
            "Epoch 208/250\n",
            "22/22 [==============================] - 0s 1ms/step - loss: 680.5403\n",
            "Epoch 209/250\n",
            "22/22 [==============================] - 0s 1ms/step - loss: 665.3839\n",
            "Epoch 210/250\n",
            "22/22 [==============================] - 0s 1ms/step - loss: 652.1245\n",
            "Epoch 211/250\n",
            "22/22 [==============================] - 0s 983us/step - loss: 637.1679\n",
            "Epoch 212/250\n",
            "22/22 [==============================] - 0s 974us/step - loss: 622.4609\n",
            "Epoch 213/250\n",
            "22/22 [==============================] - 0s 1ms/step - loss: 606.7867\n",
            "Epoch 214/250\n",
            "22/22 [==============================] - 0s 1ms/step - loss: 591.7376\n",
            "Epoch 215/250\n",
            "22/22 [==============================] - 0s 1ms/step - loss: 577.1395\n",
            "Epoch 216/250\n",
            "22/22 [==============================] - 0s 1ms/step - loss: 565.8644\n",
            "Epoch 217/250\n",
            "22/22 [==============================] - 0s 1ms/step - loss: 551.9473\n",
            "Epoch 218/250\n",
            "22/22 [==============================] - 0s 1ms/step - loss: 537.5770\n",
            "Epoch 219/250\n",
            "22/22 [==============================] - 0s 1ms/step - loss: 522.4713\n",
            "Epoch 220/250\n",
            "22/22 [==============================] - 0s 1ms/step - loss: 507.9400\n",
            "Epoch 221/250\n",
            "22/22 [==============================] - 0s 1ms/step - loss: 494.3942\n",
            "Epoch 222/250\n",
            "22/22 [==============================] - 0s 1ms/step - loss: 481.2091\n",
            "Epoch 223/250\n",
            "22/22 [==============================] - 0s 1ms/step - loss: 468.5168\n",
            "Epoch 224/250\n",
            "22/22 [==============================] - 0s 1ms/step - loss: 455.5503\n",
            "Epoch 225/250\n",
            "22/22 [==============================] - 0s 964us/step - loss: 444.4237\n",
            "Epoch 226/250\n",
            "22/22 [==============================] - 0s 1ms/step - loss: 433.9309\n",
            "Epoch 227/250\n",
            "22/22 [==============================] - 0s 979us/step - loss: 420.5201\n",
            "Epoch 228/250\n",
            "22/22 [==============================] - 0s 1ms/step - loss: 407.7905\n",
            "Epoch 229/250\n",
            "22/22 [==============================] - 0s 1ms/step - loss: 395.7950\n",
            "Epoch 230/250\n",
            "22/22 [==============================] - 0s 1ms/step - loss: 384.8246\n",
            "Epoch 231/250\n",
            "22/22 [==============================] - 0s 1ms/step - loss: 373.1900\n",
            "Epoch 232/250\n",
            "22/22 [==============================] - 0s 1ms/step - loss: 362.9855\n",
            "Epoch 233/250\n",
            "22/22 [==============================] - 0s 1ms/step - loss: 352.2358\n",
            "Epoch 234/250\n",
            "22/22 [==============================] - 0s 1ms/step - loss: 342.2288\n",
            "Epoch 235/250\n",
            "22/22 [==============================] - 0s 1ms/step - loss: 330.6726\n",
            "Epoch 236/250\n",
            "22/22 [==============================] - 0s 1ms/step - loss: 320.6902\n",
            "Epoch 237/250\n",
            "22/22 [==============================] - 0s 1ms/step - loss: 311.5216\n",
            "Epoch 238/250\n",
            "22/22 [==============================] - 0s 1ms/step - loss: 301.9102\n",
            "Epoch 239/250\n",
            "22/22 [==============================] - 0s 1ms/step - loss: 293.2205\n",
            "Epoch 240/250\n",
            "22/22 [==============================] - 0s 1ms/step - loss: 283.3482\n",
            "Epoch 241/250\n",
            "22/22 [==============================] - 0s 1ms/step - loss: 273.7798\n",
            "Epoch 242/250\n",
            "22/22 [==============================] - 0s 963us/step - loss: 264.5966\n",
            "Epoch 243/250\n",
            "22/22 [==============================] - 0s 1ms/step - loss: 255.0113\n",
            "Epoch 244/250\n",
            "22/22 [==============================] - 0s 1ms/step - loss: 247.0861\n",
            "Epoch 245/250\n",
            "22/22 [==============================] - 0s 1ms/step - loss: 239.1086\n",
            "Epoch 246/250\n",
            "22/22 [==============================] - 0s 1ms/step - loss: 230.7971\n",
            "Epoch 247/250\n",
            "22/22 [==============================] - 0s 1ms/step - loss: 221.7500\n",
            "Epoch 248/250\n",
            "22/22 [==============================] - 0s 1ms/step - loss: 213.1576\n",
            "Epoch 249/250\n",
            "22/22 [==============================] - 0s 1ms/step - loss: 204.6749\n",
            "Epoch 250/250\n",
            "22/22 [==============================] - 0s 1ms/step - loss: 196.2715\n"
          ],
          "name": "stdout"
        },
        {
          "output_type": "execute_result",
          "data": {
            "text/plain": [
              "<tensorflow.python.keras.callbacks.History at 0x7f8fe4d12b00>"
            ]
          },
          "metadata": {
            "tags": []
          },
          "execution_count": 25
        }
      ]
    },
    {
      "cell_type": "code",
      "metadata": {
        "id": "PEwYrS7ZpLis",
        "colab_type": "code",
        "colab": {}
      },
      "source": [
        "loss_df = pd.DataFrame(model.history.history)"
      ],
      "execution_count": null,
      "outputs": []
    },
    {
      "cell_type": "code",
      "metadata": {
        "id": "zuZXZ-BtpaS4",
        "colab_type": "code",
        "colab": {
          "base_uri": "https://localhost:8080/",
          "height": 419
        },
        "outputId": "ce4d3f44-cbe8-4421-92d0-1eeb410512ab"
      },
      "source": [
        "loss_dfb"
      ],
      "execution_count": null,
      "outputs": [
        {
          "output_type": "execute_result",
          "data": {
            "text/html": [
              "<div>\n",
              "<style scoped>\n",
              "    .dataframe tbody tr th:only-of-type {\n",
              "        vertical-align: middle;\n",
              "    }\n",
              "\n",
              "    .dataframe tbody tr th {\n",
              "        vertical-align: top;\n",
              "    }\n",
              "\n",
              "    .dataframe thead th {\n",
              "        text-align: right;\n",
              "    }\n",
              "</style>\n",
              "<table border=\"1\" class=\"dataframe\">\n",
              "  <thead>\n",
              "    <tr style=\"text-align: right;\">\n",
              "      <th></th>\n",
              "      <th>loss</th>\n",
              "    </tr>\n",
              "  </thead>\n",
              "  <tbody>\n",
              "    <tr>\n",
              "      <th>0</th>\n",
              "      <td>256716.875000</td>\n",
              "    </tr>\n",
              "    <tr>\n",
              "      <th>1</th>\n",
              "      <td>256671.359375</td>\n",
              "    </tr>\n",
              "    <tr>\n",
              "      <th>2</th>\n",
              "      <td>256615.796875</td>\n",
              "    </tr>\n",
              "    <tr>\n",
              "      <th>3</th>\n",
              "      <td>256551.390625</td>\n",
              "    </tr>\n",
              "    <tr>\n",
              "      <th>4</th>\n",
              "      <td>256475.406250</td>\n",
              "    </tr>\n",
              "    <tr>\n",
              "      <th>...</th>\n",
              "      <td>...</td>\n",
              "    </tr>\n",
              "    <tr>\n",
              "      <th>245</th>\n",
              "      <td>230.797119</td>\n",
              "    </tr>\n",
              "    <tr>\n",
              "      <th>246</th>\n",
              "      <td>221.750046</td>\n",
              "    </tr>\n",
              "    <tr>\n",
              "      <th>247</th>\n",
              "      <td>213.157593</td>\n",
              "    </tr>\n",
              "    <tr>\n",
              "      <th>248</th>\n",
              "      <td>204.674881</td>\n",
              "    </tr>\n",
              "    <tr>\n",
              "      <th>249</th>\n",
              "      <td>196.271454</td>\n",
              "    </tr>\n",
              "  </tbody>\n",
              "</table>\n",
              "<p>250 rows × 1 columns</p>\n",
              "</div>"
            ],
            "text/plain": [
              "              loss\n",
              "0    256716.875000\n",
              "1    256671.359375\n",
              "2    256615.796875\n",
              "3    256551.390625\n",
              "4    256475.406250\n",
              "..             ...\n",
              "245     230.797119\n",
              "246     221.750046\n",
              "247     213.157593\n",
              "248     204.674881\n",
              "249     196.271454\n",
              "\n",
              "[250 rows x 1 columns]"
            ]
          },
          "metadata": {
            "tags": []
          },
          "execution_count": 27
        }
      ]
    },
    {
      "cell_type": "code",
      "metadata": {
        "id": "w_9-mYf5pd8o",
        "colab_type": "code",
        "colab": {
          "base_uri": "https://localhost:8080/",
          "height": 282
        },
        "outputId": "4516f534-89fb-4686-a176-c5279ff69f97"
      },
      "source": [
        "\n",
        "loss_df.plot()"
      ],
      "execution_count": null,
      "outputs": [
        {
          "output_type": "execute_result",
          "data": {
            "text/plain": [
              "<matplotlib.axes._subplots.AxesSubplot at 0x7f8fe268f550>"
            ]
          },
          "metadata": {
            "tags": []
          },
          "execution_count": 28
        },
        {
          "output_type": "display_data",
          "data": {
            "image/png": "[encoded data removed]",
            "text/plain": [
              "<Figure size 432x288 with 1 Axes>"
            ]
          },
          "metadata": {
            "tags": [],
            "needs_background": "light"
          }
        }
      ]
    },
    {
      "cell_type": "code",
      "metadata": {
        "id": "uAwj92VCpwkf",
        "colab_type": "code",
        "colab": {
          "base_uri": "https://localhost:8080/",
          "height": 34
        },
        "outputId": "f2a9f3db-1165-4ab7-cce1-1d290dea6290"
      },
      "source": [
        "model.evaluate(X_test, y_test, verbose=0)"
      ],
      "execution_count": null,
      "outputs": [
        {
          "output_type": "execute_result",
          "data": {
            "text/plain": [
              "185.38156127929688"
            ]
          },
          "metadata": {
            "tags": []
          },
          "execution_count": 29
        }
      ]
    },
    {
      "cell_type": "code",
      "metadata": {
        "id": "BWgL9winp-HU",
        "colab_type": "code",
        "colab": {
          "base_uri": "https://localhost:8080/",
          "height": 51
        },
        "outputId": "179099aa-8ccd-4f12-d625-a195a6b0b1ab"
      },
      "source": [
        "model.evaluate(X_train, y_train, verbose=1)"
      ],
      "execution_count": null,
      "outputs": [
        {
          "output_type": "stream",
          "text": [
            "22/22 [==============================] - 0s 1ms/step - loss: 191.5621\n"
          ],
          "name": "stdout"
        },
        {
          "output_type": "execute_result",
          "data": {
            "text/plain": [
              "191.5620574951172"
            ]
          },
          "metadata": {
            "tags": []
          },
          "execution_count": 30
        }
      ]
    },
    {
      "cell_type": "code",
      "metadata": {
        "id": "mbJLD9d7qEFQ",
        "colab_type": "code",
        "colab": {}
      },
      "source": [
        "test_pred = model.predict(X_test)"
      ],
      "execution_count": null,
      "outputs": []
    },
    {
      "cell_type": "code",
      "metadata": {
        "id": "MDpSfvHbqOWU",
        "colab_type": "code",
        "colab": {
          "base_uri": "https://localhost:8080/",
          "height": 1000
        },
        "outputId": "f54cf0ca-a322-40b4-d05f-e164ab84e61c"
      },
      "source": [
        "test_pred"
      ],
      "execution_count": null,
      "outputs": [
        {
          "output_type": "execute_result",
          "data": {
            "text/plain": [
              "array([[420.27493],\n",
              "       [609.1313 ],\n",
              "       [582.38074],\n",
              "       [563.75305],\n",
              "       [384.94376],\n",
              "       [570.467  ],\n",
              "       [513.4407 ],\n",
              "       [467.57733],\n",
              "       [543.9006 ],\n",
              "       [457.69806],\n",
              "       [599.0064 ],\n",
              "       [546.43274],\n",
              "       [432.0837 ],\n",
              "       [422.93695],\n",
              "       [635.04736],\n",
              "       [448.499  ],\n",
              "       [511.0879 ],\n",
              "       [639.0269 ],\n",
              "       [642.2326 ],\n",
              "       [559.68384],\n",
              "       [357.82474],\n",
              "       [454.37802],\n",
              "       [399.87054],\n",
              "       [397.3973 ],\n",
              "       [559.72504],\n",
              "       [596.9501 ],\n",
              "       [529.98126],\n",
              "       [439.98163],\n",
              "       [635.63446],\n",
              "       [428.61395],\n",
              "       [453.31055],\n",
              "       [489.36786],\n",
              "       [449.0782 ],\n",
              "       [658.74023],\n",
              "       [438.3393 ],\n",
              "       [430.21292],\n",
              "       [505.89154],\n",
              "       [546.0611 ],\n",
              "       [509.2143 ],\n",
              "       [409.9075 ],\n",
              "       [605.2599 ],\n",
              "       [430.63123],\n",
              "       [592.9537 ],\n",
              "       [456.7893 ],\n",
              "       [503.91614],\n",
              "       [574.97125],\n",
              "       [649.96967],\n",
              "       [494.6521 ],\n",
              "       [346.0888 ],\n",
              "       [489.44186],\n",
              "       [517.46857],\n",
              "       [400.81763],\n",
              "       [539.8825 ],\n",
              "       [423.19922],\n",
              "       [625.1766 ],\n",
              "       [494.17233],\n",
              "       [611.4879 ],\n",
              "       [613.7024 ],\n",
              "       [456.54517],\n",
              "       [488.09293],\n",
              "       [493.8731 ],\n",
              "       [480.69617],\n",
              "       [660.72266],\n",
              "       [417.9228 ],\n",
              "       [676.39624],\n",
              "       [576.4838 ],\n",
              "       [574.3524 ],\n",
              "       [535.7507 ],\n",
              "       [488.79407],\n",
              "       [515.68115],\n",
              "       [382.36038],\n",
              "       [537.48535],\n",
              "       [562.89014],\n",
              "       [528.69183],\n",
              "       [462.5108 ],\n",
              "       [529.6873 ],\n",
              "       [509.562  ],\n",
              "       [452.19363],\n",
              "       [539.40894],\n",
              "       [625.2508 ],\n",
              "       [471.0881 ],\n",
              "       [560.8818 ],\n",
              "       [668.55133],\n",
              "       [465.9343 ],\n",
              "       [681.9602 ],\n",
              "       [478.43854],\n",
              "       [419.86917],\n",
              "       [575.71857],\n",
              "       [448.93732],\n",
              "       [493.36163],\n",
              "       [603.85956],\n",
              "       [450.72742],\n",
              "       [462.57983],\n",
              "       [445.87723],\n",
              "       [507.11316],\n",
              "       [595.6093 ],\n",
              "       [347.74667],\n",
              "       [447.53455],\n",
              "       [534.1171 ],\n",
              "       [517.5304 ],\n",
              "       [591.9594 ],\n",
              "       [523.90814],\n",
              "       [359.7084 ],\n",
              "       [569.43225],\n",
              "       [441.26517],\n",
              "       [558.2721 ],\n",
              "       [514.03204],\n",
              "       [407.403  ],\n",
              "       [557.81067],\n",
              "       [464.79465],\n",
              "       [457.08835],\n",
              "       [624.35876],\n",
              "       [524.30536],\n",
              "       [546.9699 ],\n",
              "       [430.92343],\n",
              "       [483.49652],\n",
              "       [577.11597],\n",
              "       [646.26636],\n",
              "       [674.9557 ],\n",
              "       [638.3446 ],\n",
              "       [554.6203 ],\n",
              "       [505.82098],\n",
              "       [406.15057],\n",
              "       [312.48846],\n",
              "       [485.01852],\n",
              "       [604.14154],\n",
              "       [393.8651 ],\n",
              "       [512.91895],\n",
              "       [510.3686 ],\n",
              "       [495.88977],\n",
              "       [485.4037 ],\n",
              "       [435.03418],\n",
              "       [496.18594],\n",
              "       [477.71024],\n",
              "       [590.48395],\n",
              "       [567.6804 ],\n",
              "       [427.0525 ],\n",
              "       [615.57465],\n",
              "       [473.7681 ],\n",
              "       [558.6624 ],\n",
              "       [420.49655],\n",
              "       [529.9043 ],\n",
              "       [564.9286 ],\n",
              "       [377.91223],\n",
              "       [544.85284],\n",
              "       [591.5764 ],\n",
              "       [401.7126 ],\n",
              "       [538.0379 ],\n",
              "       [556.4848 ],\n",
              "       [462.38254],\n",
              "       [616.7661 ],\n",
              "       [390.32156],\n",
              "       [479.09348],\n",
              "       [526.0418 ],\n",
              "       [392.27573],\n",
              "       [467.75558],\n",
              "       [446.1757 ],\n",
              "       [500.76172],\n",
              "       [370.17456],\n",
              "       [412.35376],\n",
              "       [593.2187 ],\n",
              "       [508.40768],\n",
              "       [474.8115 ],\n",
              "       [494.63635],\n",
              "       [534.1172 ],\n",
              "       [367.30887],\n",
              "       [515.12115],\n",
              "       [287.11072],\n",
              "       [505.8163 ],\n",
              "       [536.2446 ],\n",
              "       [492.76202],\n",
              "       [479.07278],\n",
              "       [409.4194 ],\n",
              "       [431.38232],\n",
              "       [544.67523],\n",
              "       [480.23227],\n",
              "       [570.4704 ],\n",
              "       [492.20248],\n",
              "       [588.04144],\n",
              "       [543.6991 ],\n",
              "       [539.12854],\n",
              "       [502.8713 ],\n",
              "       [628.02814],\n",
              "       [554.2003 ],\n",
              "       [571.4386 ],\n",
              "       [455.3276 ],\n",
              "       [430.2118 ],\n",
              "       [431.90796],\n",
              "       [562.9537 ],\n",
              "       [596.0161 ],\n",
              "       [449.1864 ],\n",
              "       [492.25302],\n",
              "       [577.00037],\n",
              "       [523.3455 ],\n",
              "       [378.4324 ],\n",
              "       [627.4521 ],\n",
              "       [525.7273 ],\n",
              "       [361.37872],\n",
              "       [495.77032],\n",
              "       [425.616  ],\n",
              "       [594.7746 ],\n",
              "       [370.57468],\n",
              "       [522.7148 ],\n",
              "       [420.32703],\n",
              "       [291.2981 ],\n",
              "       [520.152  ],\n",
              "       [366.38632],\n",
              "       [381.55588],\n",
              "       [569.6019 ],\n",
              "       [431.30078],\n",
              "       [545.7218 ],\n",
              "       [519.90985],\n",
              "       [509.00208],\n",
              "       [350.98853],\n",
              "       [417.79807],\n",
              "       [589.87146],\n",
              "       [603.4216 ],\n",
              "       [589.5875 ],\n",
              "       [560.94196],\n",
              "       [478.22958],\n",
              "       [468.09705],\n",
              "       [509.28906],\n",
              "       [456.24692],\n",
              "       [513.3548 ],\n",
              "       [502.68414],\n",
              "       [416.41803],\n",
              "       [593.4403 ],\n",
              "       [292.65274],\n",
              "       [613.7027 ],\n",
              "       [581.45593],\n",
              "       [353.5595 ],\n",
              "       [483.52264],\n",
              "       [585.08655],\n",
              "       [397.29077],\n",
              "       [467.60092],\n",
              "       [351.85065],\n",
              "       [519.4462 ],\n",
              "       [425.43573],\n",
              "       [551.39795],\n",
              "       [625.5098 ],\n",
              "       [533.8458 ],\n",
              "       [505.63376],\n",
              "       [620.0899 ],\n",
              "       [516.0295 ],\n",
              "       [529.6514 ],\n",
              "       [517.59094],\n",
              "       [465.73392],\n",
              "       [508.32593],\n",
              "       [469.02786],\n",
              "       [583.2022 ],\n",
              "       [472.3161 ],\n",
              "       [438.35355],\n",
              "       [537.1998 ],\n",
              "       [496.58978],\n",
              "       [655.18884],\n",
              "       [392.0014 ],\n",
              "       [546.9719 ],\n",
              "       [569.8112 ],\n",
              "       [444.1671 ],\n",
              "       [538.9001 ],\n",
              "       [577.9706 ],\n",
              "       [571.9563 ],\n",
              "       [693.21295],\n",
              "       [442.49072],\n",
              "       [415.09818],\n",
              "       [341.8958 ],\n",
              "       [456.8716 ],\n",
              "       [406.97348],\n",
              "       [538.8507 ],\n",
              "       [521.58057],\n",
              "       [559.7292 ],\n",
              "       [457.33575],\n",
              "       [532.4878 ],\n",
              "       [400.2538 ],\n",
              "       [503.80457],\n",
              "       [620.041  ],\n",
              "       [500.74225],\n",
              "       [560.74023],\n",
              "       [475.67398],\n",
              "       [307.987  ],\n",
              "       [516.4956 ],\n",
              "       [606.9176 ],\n",
              "       [372.8389 ],\n",
              "       [457.98456],\n",
              "       [500.89844],\n",
              "       [539.32324],\n",
              "       [599.7562 ],\n",
              "       [403.94864],\n",
              "       [456.89752],\n",
              "       [487.45035],\n",
              "       [586.8226 ],\n",
              "       [500.31607],\n",
              "       [347.7765 ],\n",
              "       [549.8558 ],\n",
              "       [454.43665],\n",
              "       [526.5302 ],\n",
              "       [512.44934],\n",
              "       [597.3253 ],\n",
              "       [431.24646],\n",
              "       [424.39395]], dtype=float32)"
            ]
          },
          "metadata": {
            "tags": []
          },
          "execution_count": 32
        }
      ]
    },
    {
      "cell_type": "code",
      "metadata": {
        "id": "-Um5ra5oqY9u",
        "colab_type": "code",
        "colab": {}
      },
      "source": [
        "pred_df = pd.DataFrame(y_test, columns=['Real price'])"
      ],
      "execution_count": null,
      "outputs": []
    },
    {
      "cell_type": "code",
      "metadata": {
        "id": "2lZDPA4QqlDK",
        "colab_type": "code",
        "colab": {}
      },
      "source": [
        "test_pred = pd.Series(test_pred.reshape(300))"
      ],
      "execution_count": null,
      "outputs": []
    },
    {
      "cell_type": "code",
      "metadata": {
        "id": "JYvHUF-7rCWm",
        "colab_type": "code",
        "colab": {}
      },
      "source": [
        "pred_df = pd.concat([pred_df,test_pred], axis=1)"
      ],
      "execution_count": null,
      "outputs": []
    },
    {
      "cell_type": "code",
      "metadata": {
        "id": "y6rM5pgDrDac",
        "colab_type": "code",
        "colab": {}
      },
      "source": [
        "pred_df.columns = ['Real price', 'Predicted price'] "
      ],
      "execution_count": null,
      "outputs": []
    },
    {
      "cell_type": "code",
      "metadata": {
        "id": "8NpXBs0ZrVo-",
        "colab_type": "code",
        "colab": {
          "base_uri": "https://localhost:8080/",
          "height": 419
        },
        "outputId": "068991af-74a4-4209-c815-8d33b6282b9e"
      },
      "source": [
        "pred_df"
      ],
      "execution_count": null,
      "outputs": [
        {
          "output_type": "execute_result",
          "data": {
            "text/html": [
              "<div>\n",
              "<style scoped>\n",
              "    .dataframe tbody tr th:only-of-type {\n",
              "        vertical-align: middle;\n",
              "    }\n",
              "\n",
              "    .dataframe tbody tr th {\n",
              "        vertical-align: top;\n",
              "    }\n",
              "\n",
              "    .dataframe thead th {\n",
              "        text-align: right;\n",
              "    }\n",
              "</style>\n",
              "<table border=\"1\" class=\"dataframe\">\n",
              "  <thead>\n",
              "    <tr style=\"text-align: right;\">\n",
              "      <th></th>\n",
              "      <th>Real price</th>\n",
              "      <th>Predicted price</th>\n",
              "    </tr>\n",
              "  </thead>\n",
              "  <tbody>\n",
              "    <tr>\n",
              "      <th>0</th>\n",
              "      <td>402.296319</td>\n",
              "      <td>420.274933</td>\n",
              "    </tr>\n",
              "    <tr>\n",
              "      <th>1</th>\n",
              "      <td>624.156198</td>\n",
              "      <td>609.131287</td>\n",
              "    </tr>\n",
              "    <tr>\n",
              "      <th>2</th>\n",
              "      <td>582.455066</td>\n",
              "      <td>582.380737</td>\n",
              "    </tr>\n",
              "    <tr>\n",
              "      <th>3</th>\n",
              "      <td>578.588606</td>\n",
              "      <td>563.753052</td>\n",
              "    </tr>\n",
              "    <tr>\n",
              "      <th>4</th>\n",
              "      <td>371.224104</td>\n",
              "      <td>384.943756</td>\n",
              "    </tr>\n",
              "    <tr>\n",
              "      <th>...</th>\n",
              "      <td>...</td>\n",
              "      <td>...</td>\n",
              "    </tr>\n",
              "    <tr>\n",
              "      <th>295</th>\n",
              "      <td>525.704657</td>\n",
              "      <td>526.530212</td>\n",
              "    </tr>\n",
              "    <tr>\n",
              "      <th>296</th>\n",
              "      <td>502.909473</td>\n",
              "      <td>512.449341</td>\n",
              "    </tr>\n",
              "    <tr>\n",
              "      <th>297</th>\n",
              "      <td>612.727910</td>\n",
              "      <td>597.325317</td>\n",
              "    </tr>\n",
              "    <tr>\n",
              "      <th>298</th>\n",
              "      <td>417.569725</td>\n",
              "      <td>431.246460</td>\n",
              "    </tr>\n",
              "    <tr>\n",
              "      <th>299</th>\n",
              "      <td>410.538250</td>\n",
              "      <td>424.393951</td>\n",
              "    </tr>\n",
              "  </tbody>\n",
              "</table>\n",
              "<p>300 rows × 2 columns</p>\n",
              "</div>"
            ],
            "text/plain": [
              "     Real price  Predicted price\n",
              "0    402.296319       420.274933\n",
              "1    624.156198       609.131287\n",
              "2    582.455066       582.380737\n",
              "3    578.588606       563.753052\n",
              "4    371.224104       384.943756\n",
              "..          ...              ...\n",
              "295  525.704657       526.530212\n",
              "296  502.909473       512.449341\n",
              "297  612.727910       597.325317\n",
              "298  417.569725       431.246460\n",
              "299  410.538250       424.393951\n",
              "\n",
              "[300 rows x 2 columns]"
            ]
          },
          "metadata": {
            "tags": []
          },
          "execution_count": 41
        }
      ]
    },
    {
      "cell_type": "code",
      "metadata": {
        "id": "n5lIerbhrbfI",
        "colab_type": "code",
        "colab": {
          "base_uri": "https://localhost:8080/",
          "height": 296
        },
        "outputId": "b21c5bae-59d4-4004-8080-c3c0bb568caa"
      },
      "source": [
        "sns.scatterplot(x='Real price', y='Predicted price', data=pred_df)"
      ],
      "execution_count": null,
      "outputs": [
        {
          "output_type": "execute_result",
          "data": {
            "text/plain": [
              "<matplotlib.axes._subplots.AxesSubplot at 0x7f8fe25259b0>"
            ]
          },
          "metadata": {
            "tags": []
          },
          "execution_count": 42
        },
        {
          "output_type": "display_data",
          "data": {
            "image/png": "[encoded data removed]",
            "text/plain": [
              "<Figure size 432x288 with 1 Axes>"
            ]
          },
          "metadata": {
            "tags": [],
            "needs_background": "light"
          }
        }
      ]
    },
    {
      "cell_type": "code",
      "metadata": {
        "id": "PxH_OW1MrlUB",
        "colab_type": "code",
        "colab": {}
      },
      "source": [
        "from sklearn.metrics import mean_absolute_error, mean_squared_error"
      ],
      "execution_count": null,
      "outputs": []
    },
    {
      "cell_type": "code",
      "metadata": {
        "id": "OsvxzSijrtak",
        "colab_type": "code",
        "colab": {
          "base_uri": "https://localhost:8080/",
          "height": 34
        },
        "outputId": "efb58a7a-24ec-4f11-d025-aabdec91e6ce"
      },
      "source": [
        "mean_absolute_error(pred_df['Real price'], pred_df['Predicted price'])"
      ],
      "execution_count": null,
      "outputs": [
        {
          "output_type": "execute_result",
          "data": {
            "text/plain": [
              "10.913811313034895"
            ]
          },
          "metadata": {
            "tags": []
          },
          "execution_count": 44
        }
      ]
    },
    {
      "cell_type": "code",
      "metadata": {
        "id": "HmEzX3n_wtzu",
        "colab_type": "code",
        "colab": {}
      },
      "source": [
        ""
      ],
      "execution_count": null,
      "outputs": []
    }
  ]
}